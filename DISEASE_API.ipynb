{
 "cells": [
  {
   "cell_type": "code",
   "execution_count": 18,
   "metadata": {},
   "outputs": [],
   "source": [
    "import joblib\n",
    "import pandas as pd\n",
    "import numpy as np\n",
    "# File path where the model is stored\n",
    "loaded_rf = joblib.load(r\"C:\\Users\\me513\\Documents\\sc\\gp\\random_forest.joblib\")\n",
    "\n",
    "# Now you can use the loaded model for predictions\n",
    "# For example:\n",
    "# prediction = random_forest_model.predict(X_test)\n"
   ]
  },
  {
   "cell_type": "code",
   "execution_count": 19,
   "metadata": {},
   "outputs": [],
   "source": [
    "df1 = pd.read_excel(r\"C:\\Users\\me513\\Documents\\sc\\gp\\Copy of شدة_الاعراض(1).xlsx\")\n",
    "discrp = pd.read_excel(r\"C:\\Users\\me513\\Documents\\sc\\gp\\symptom_Description.xlsx\")\n",
    "ektra7at = pd.read_excel(r\"C:\\Users\\me513\\Documents\\sc\\gp\\symptom_precaution.xlsx\")\n",
    "df1['علامة مرض'] = df1['علامة مرض'].str.replace('_',' ')"
   ]
  },
  {
   "cell_type": "code",
   "execution_count": 20,
   "metadata": {},
   "outputs": [],
   "source": [
    "def predict(x,S1=' ',S2=' ',S3=' ',S4=' ',S5=' ',S6=' ',S7=' ',S8=' ',S9=' ',S10=' ',S11=' ',S12=' ',S13=' ',S14=' ',S15=' ',S16=' ',S17=' '):\n",
    "    psymptoms = [S1,S2,S3,S4,S5,S6,S7,S8,S9,S10,S11,S12,S13,S14,S15,S16,S17]\n",
    "    #print(psymptoms)\n",
    "    a = np.array(df1[\"علامة مرض\"])\n",
    "    b = np.array(df1[\"وزن\"])\n",
    "    for j in range(len(psymptoms)):\n",
    "        for k in range(len(a)):\n",
    "            if psymptoms[j]==a[k]:\n",
    "                psymptoms[j]=b[k]\n",
    "            if psymptoms[j]==' ':\n",
    "                psymptoms[j]=0\n",
    "    psy = [psymptoms]\n",
    "    pred2 = x.predict(psy)\n",
    "    disp= discrp[discrp['Disease']==pred2[0]]\n",
    "    disp = disp.values[0][1]\n",
    "    recomnd = ektra7at[ektra7at['Disease']==pred2[0]]\n",
    "    c=np.where(ektra7at['Disease']==pred2[0])[0][0]\n",
    "    precuation_list=[]\n",
    "    for i in range(1,len(ektra7at.iloc[c])):\n",
    "          precuation_list.append(ektra7at.iloc[c,i])\n",
    "    print(\"The Disease Name: \",pred2[0])\n",
    "    print(\"The Disease Discription: \",disp)\n",
    "    print(\"Recommended Things to do at home: \")\n",
    "    for i in precuation_list:\n",
    "        print(i)\n",
    "    return pred2 ,disp,precuation_list"
   ]
  },
  {
   "cell_type": "code",
   "execution_count": 26,
   "metadata": {},
   "outputs": [
    {
     "name": "stdout",
     "output_type": "stream",
     "text": [
      " * Serving Flask app '__main__'\n",
      " * Debug mode: off\n"
     ]
    },
    {
     "name": "stderr",
     "output_type": "stream",
     "text": [
      "WARNING: This is a development server. Do not use it in a production deployment. Use a production WSGI server instead.\n",
      " * Running on all addresses (0.0.0.0)\n",
      " * Running on http://127.0.0.1:5000\n",
      " * Running on http://192.168.60.142:5000\n",
      "Press CTRL+C to quit\n",
      "192.168.60.142 - - [24/Apr/2024 22:11:54] \"POST /predictAPI HTTP/1.1\" 200 -\n"
     ]
    },
    {
     "name": "stdout",
     "output_type": "stream",
     "text": [
      "The Disease Name:  تلوث فطري\n",
      "The Disease Discription:  تحدث الالتهابات الفطرية عند البشر عندما تسيطر الفطريات الغازية على منطقة من الجسم وتكون أكثر من قدرة الجهاز المناعي على التعامل معها. يمكن للفطريات أن تعيش في الهواء والتربة والماء والنباتات. كما أن هناك بعض الفطريات التي تعيش بشكل طبيعي في جسم الإنسان. مثل العديد من الميكروبات، هناك فطريات مفيدة وفطريات ضارة.\n",
      "Recommended Things to do at home: \n",
      "حمام مرتين\n",
      "استخدمي الديتول أو النيم في ماء الاستحمام\n",
      "إبقاء المنطقة المصابة جافة\n",
      "استخدام الملابس النظيفة\n"
     ]
    },
    {
     "name": "stderr",
     "output_type": "stream",
     "text": [
      "[2024-04-24 22:13:20,935] ERROR in app: Exception on /predictAPI [POST]\n",
      "Traceback (most recent call last):\n",
      "  File \"c:\\Users\\me513\\anaconda3\\envs\\gp\\lib\\site-packages\\flask\\app.py\", line 1463, in wsgi_app\n",
      "    response = self.full_dispatch_request()\n",
      "  File \"c:\\Users\\me513\\anaconda3\\envs\\gp\\lib\\site-packages\\flask\\app.py\", line 872, in full_dispatch_request\n",
      "    rv = self.handle_user_exception(e)\n",
      "  File \"c:\\Users\\me513\\anaconda3\\envs\\gp\\lib\\site-packages\\flask\\app.py\", line 870, in full_dispatch_request\n",
      "    rv = self.dispatch_request()\n",
      "  File \"c:\\Users\\me513\\anaconda3\\envs\\gp\\lib\\site-packages\\flask\\app.py\", line 855, in dispatch_request\n",
      "    return self.ensure_sync(self.view_functions[rule.endpoint])(**view_args)  # type: ignore[no-any-return]\n",
      "  File \"C:\\Users\\me513\\AppData\\Local\\Temp\\ipykernel_13944\\4050187976.py\", line 38, in create_page\n",
      "    name, description, precaution_list = respond(**resp)\n",
      "  File \"C:\\Users\\me513\\AppData\\Local\\Temp\\ipykernel_13944\\4050187976.py\", line 21, in respond\n",
      "    name, description, precaution_list = predict(loaded_rf,S1,S2,S3,S4,S5,S6,S7,S8,S9,S10,S11,S12,S13,S14,S15,S16,S17)\n",
      "  File \"C:\\Users\\me513\\AppData\\Local\\Temp\\ipykernel_13944\\1561569974.py\", line 13, in predict\n",
      "    pred2 = x.predict(psy)\n",
      "  File \"c:\\Users\\me513\\anaconda3\\envs\\gp\\lib\\site-packages\\sklearn\\ensemble\\_forest.py\", line 823, in predict\n",
      "    proba = self.predict_proba(X)\n",
      "  File \"c:\\Users\\me513\\anaconda3\\envs\\gp\\lib\\site-packages\\sklearn\\ensemble\\_forest.py\", line 865, in predict_proba\n",
      "    X = self._validate_X_predict(X)\n",
      "  File \"c:\\Users\\me513\\anaconda3\\envs\\gp\\lib\\site-packages\\sklearn\\ensemble\\_forest.py\", line 599, in _validate_X_predict\n",
      "    X = self._validate_data(X, dtype=DTYPE, accept_sparse=\"csr\", reset=False)\n",
      "  File \"c:\\Users\\me513\\anaconda3\\envs\\gp\\lib\\site-packages\\sklearn\\base.py\", line 604, in _validate_data\n",
      "    out = check_array(X, input_name=\"X\", **check_params)\n",
      "  File \"c:\\Users\\me513\\anaconda3\\envs\\gp\\lib\\site-packages\\sklearn\\utils\\validation.py\", line 917, in check_array\n",
      "    array = _asarray_with_order(array, order=order, dtype=dtype, xp=xp)\n",
      "  File \"c:\\Users\\me513\\anaconda3\\envs\\gp\\lib\\site-packages\\sklearn\\utils\\_array_api.py\", line 380, in _asarray_with_order\n",
      "    array = numpy.asarray(array, order=order, dtype=dtype)\n",
      "ValueError: could not convert string to float: ''\n",
      "192.168.60.142 - - [24/Apr/2024 22:13:20] \"POST /predictAPI HTTP/1.1\" 500 -\n"
     ]
    }
   ],
   "source": [
    "import json\n",
    "import pandas as pd \n",
    "from tensorflow.keras.models import load_model\n",
    "from flask import Flask, request, Response\n",
    "import numpy as np\n",
    "import tensorflow as tf\n",
    "from flask import Flask, request, render_template, jsonify\n",
    "\n",
    "app = Flask(__name__)\n",
    "\n",
    "# Custom encoder function to handle ndarray objects\n",
    "class NumpyEncoder(json.JSONEncoder):\n",
    "    def default(self, obj):\n",
    "        if isinstance(obj, np.ndarray):\n",
    "            return obj.tolist()\n",
    "        return json.JSONEncoder.default(self, obj)\n",
    "\n",
    "# Define your function to make predictions\n",
    "def respond(S1=' ',S2=' ',S3=' ',S4=' ',S5=' ',S6=' ',S7=' ',S8=' ',S9=' ',S10=' ',S11=' ',S12=' ',S13=' ',S14=' ',S15=' ',S16=' ',S17=' '):\n",
    "    # Assuming you have a function called predict to make predictions\n",
    "    name, description, precaution_list = predict(loaded_rf,S1,S2,S3,S4,S5,S6,S7,S8,S9,S10,S11,S12,S13,S14,S15,S16,S17)\n",
    "    return name, description, precaution_list\n",
    "\n",
    "# Define a route for your API\n",
    "@app.route('/predictAPI', methods=['POST'])\n",
    "def create_page():\n",
    "    # Assuming you have input_sentence available in the request\n",
    "    #input_sentence = request.json.get('inputs', [])\n",
    "    request_data = request.json\n",
    "    resp={'S1':'','S2':'','S3':'','S4':'','S5':' ','S6':' ','S7':' ','S8':' ','S9':' ','S10':' ','S11':' ','S12':' ','S13':' ','S14':' ','S15':' ','S16':' ','S17':' '}\n",
    "    for i in range(0,17):\n",
    "        value = request_data.get(f'S{i+1}')\n",
    "        if value is not None:\n",
    "            resp[f'S{i+1}'] = request_data.get(f'S{i+1}')\n",
    "        else:\n",
    "            continue\n",
    "        \n",
    "    name, description, precaution_list = respond(**resp)\n",
    "    \n",
    "    # Use json.dumps with custom encoder to ensure serialization of ndarray\n",
    "    response_data = {'name': name, 'description': description, 'precaution_list': precaution_list}\n",
    "    return Response(json.dumps(response_data, cls=NumpyEncoder), mimetype='application/json')\n",
    "\n",
    "if __name__ == \"__main__\":\n",
    "    app.run(host='0.0.0.0', port=5000)\n"
   ]
  }
 ],
 "metadata": {
  "kernelspec": {
   "display_name": "gp",
   "language": "python",
   "name": "python3"
  },
  "language_info": {
   "codemirror_mode": {
    "name": "ipython",
    "version": 3
   },
   "file_extension": ".py",
   "mimetype": "text/x-python",
   "name": "python",
   "nbconvert_exporter": "python",
   "pygments_lexer": "ipython3",
   "version": "3.9.18"
  }
 },
 "nbformat": 4,
 "nbformat_minor": 2
}
