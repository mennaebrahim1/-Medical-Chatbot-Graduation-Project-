{
 "cells": [
  {
   "cell_type": "code",
   "execution_count": 1,
   "metadata": {},
   "outputs": [],
   "source": [
    "from transformers import AutoModelForSeq2SeqLM, AutoTokenizer\n",
    "\n",
    "model_name =r\"Graduation Project\\ALLDATA\"\n",
    "loaded_model = AutoModelForSeq2SeqLM.from_pretrained(model_name)\n",
    "loaded_tokenizer = AutoTokenizer.from_pretrained(model_name)"
   ]
  },
  {
   "cell_type": "code",
   "execution_count": 2,
   "metadata": {},
   "outputs": [],
   "source": [
    "from transformers import pipeline\n",
    "# Load the trained model\n",
    " # Update this with the path to your trained model\n",
    "def predict(sentence):\n",
    "    '''generator = pipeline(\"text2text-generation\", model=loaded_model, tokenizer=loaded_tokenizer)\n",
    "    prompt = sentence\n",
    "    generated_text = generator(prompt, max_length=50, num_return_sequences=1)\n",
    "    # Print generated text\n",
    "    return generated_text'''\n",
    "\n",
    "    generator = pipeline(\"text2text-generation\", model=loaded_model, tokenizer=loaded_tokenizer)\n",
    "    generated_text = generator(sentence, max_length=50, num_return_sequences=1)\n",
    "    return generated_text[0]['generated_text']\n"
   ]
  },
  {
   "cell_type": "code",
   "execution_count": 3,
   "metadata": {},
   "outputs": [],
   "source": [
    "#!pip install Flask\n",
    "#!pip install Flask pyngrok flask_ngrok\n",
    "#!pip install ngrok\n",
    "ngrok_key = \"1b6UY9RV0ahwHOOvcoWKE15s0Hr_68SDceQkU8j88Svf33sA6\"\n",
    "# ngrok_key = \"2fXuisj0RvCRdRy6CEHk71A6VoS_6bo735RYu4QThcXupRDXP\"\n",
    "port = 5000\n"
   ]
  },
  {
   "cell_type": "code",
   "execution_count": 4,
   "metadata": {},
   "outputs": [
    {
     "name": "stderr",
     "output_type": "stream",
     "text": [
      "t=2024-06-26T15:06:05+0300 lvl=warn msg=\"can't bind default web address, trying alternatives\" obj=web addr=127.0.0.1:4040\n"
     ]
    },
    {
     "name": "stdout",
     "output_type": "stream",
     "text": [
      " * Serving Flask app '__main__'\n",
      " * Debug mode: off\n"
     ]
    },
    {
     "name": "stderr",
     "output_type": "stream",
     "text": [
      "WARNING: This is a development server. Do not use it in a production deployment. Use a production WSGI server instead.\n",
      " * Running on http://127.0.0.1:5000\n",
      "Press CTRL+C to quit\n"
     ]
    },
    {
     "name": "stdout",
     "output_type": "stream",
     "text": [
      " * Running on http://09d1-41-35-121-160.ngrok-free.app\n",
      " * Traffic stats available on http://127.0.0.1:4040\n"
     ]
    },
    {
     "name": "stderr",
     "output_type": "stream",
     "text": [
      "127.0.0.1 - - [26/Jun/2024 15:06:25] \"GET / HTTP/1.1\" 404 -\n",
      "127.0.0.1 - - [26/Jun/2024 15:06:27] \"GET / HTTP/1.1\" 404 -\n",
      "127.0.0.1 - - [26/Jun/2024 15:06:35] \"GET /predictAPI HTTP/1.1\" 405 -\n",
      "127.0.0.1 - - [26/Jun/2024 15:10:01] \"POST /predictAPI HTTP/1.1\" 200 -\n"
     ]
    },
    {
     "name": "stdout",
     "output_type": "stream",
     "text": [
      "نعم لا يلزم الصيام\n"
     ]
    },
    {
     "name": "stderr",
     "output_type": "stream",
     "text": [
      "127.0.0.1 - - [26/Jun/2024 15:11:06] \"POST /predictAPI HTTP/1.1\" 200 -\n"
     ]
    },
    {
     "name": "stdout",
     "output_type": "stream",
     "text": [
      "نعم لا يلزم الصيام\n"
     ]
    },
    {
     "name": "stderr",
     "output_type": "stream",
     "text": [
      "127.0.0.1 - - [26/Jun/2024 15:11:31] \"POST /predictAPI HTTP/1.1\" 400 -\n",
      "127.0.0.1 - - [26/Jun/2024 15:11:41] \"POST /predictAPI HTTP/1.1\" 400 -\n",
      "127.0.0.1 - - [26/Jun/2024 15:12:59] \"POST /predictAPI HTTP/1.1\" 400 -\n"
     ]
    }
   ],
   "source": [
    "import json\n",
    "import pandas as pd\n",
    "from tensorflow.keras.models import load_model\n",
    "from flask import Flask, request, jsonify\n",
    "import numpy as np\n",
    "import tensorflow as tf\n",
    "from flask_ngrok import run_with_ngrok\n",
    "from pyngrok import ngrok\n",
    "from flask import Flask, request, render_template, jsonify\n",
    "\n",
    "app = Flask(__name__)\n",
    "ngrok.set_auth_token(ngrok_key)\n",
    "run_with_ngrok(app)\n",
    "#app = Flask(_name_)\n",
    "#model = tf.keras.models.load_model('plants.h5')\n",
    "# Define your function to make predictions\n",
    "def respond(input_sentence):\n",
    "    # Assuming you have a function called predict to make predictions\n",
    "    pred = predict(input_sentence)\n",
    "    return pred\n",
    "ngrok.connect(port).public_url\n",
    "# Define a route for your API\n",
    "#@app.route(\"/check\", methods=[\"POST\"])\n",
    "@app.route('/predictAPI', methods=['POST'])\n",
    "def create_page():\n",
    "    # Assuming you have input_sentence available in the request\n",
    "    input_sentence = request.json.get('input_sentence', '')\n",
    "    label = respond(input_sentence)\n",
    "    print (label)\n",
    "    return jsonify({'label': label})\n",
    "\n",
    "if __name__ == \"__main__\":\n",
    "    app.run()"
   ]
  }
 ],
 "metadata": {
  "kernelspec": {
   "display_name": "gp",
   "language": "python",
   "name": "python3"
  },
  "language_info": {
   "codemirror_mode": {
    "name": "ipython",
    "version": 3
   },
   "file_extension": ".py",
   "mimetype": "text/x-python",
   "name": "python",
   "nbconvert_exporter": "python",
   "pygments_lexer": "ipython3",
   "version": "3.9.19"
  }
 },
 "nbformat": 4,
 "nbformat_minor": 2
}
